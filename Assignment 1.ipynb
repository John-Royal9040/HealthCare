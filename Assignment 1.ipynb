{
 "cells": [
  {
   "cell_type": "code",
   "execution_count": 136,
   "id": "33b3c3e8-345c-464c-9cae-091382653c14",
   "metadata": {},
   "outputs": [],
   "source": [
    "#Just Want to Confirm Libraries Are In"
   ]
  },
  {
   "cell_type": "markdown",
   "id": "afd2075b-b7b6-4136-ac9f-40afab403280",
   "metadata": {},
   "source": [
    "**Research Question**"
   ]
  },
  {
   "cell_type": "markdown",
   "id": "bcb28bca-e079-4b86-b96d-d9887f76c1db",
   "metadata": {},
   "source": [
    "To what extent do educational attainment, income levels, and health literacy influence the utilization of Medicaid and other healthcare benefits among individuals experiencing homelessness in urban settings, with a specific focus on Baltimore, Maryland? Furthermore, what structural, socioeconomic, and psychological barriers contribute to the underutilization of these healthcare programs despite their formal accessibility, and how can policy interventions mitigate these disparities?"
   ]
  },
  {
   "cell_type": "markdown",
   "id": "d2a3a7d6-d2f5-493b-a778-c1b8b72ae405",
   "metadata": {},
   "source": [
    "**Problem Statement**"
   ]
  },
  {
   "cell_type": "markdown",
   "id": "b4211964-a7b7-42ef-aab3-206430d9c6ed",
   "metadata": {},
   "source": [
    "Despite the availability of Medicaid and other publicly funded healthcare benefits, individuals experiencing homelessness in urban environments—particularly in Baltimore, Maryland—continue to face significant barriers to healthcare utilization. Existing research suggests that education levels, income disparities, and health literacy play critical roles in shaping access to and engagement with healthcare services. However, the persistence of underutilization despite formal accessibility indicates the presence of deeper structural, socioeconomic, and psychological barriers. Systemic factors such as bureaucratic complexity, distrust in medical institutions, mental health challenges, and logistical constraints (e.g., lack of transportation, unstable living conditions) further exacerbate healthcare disparities among this vulnerable population.\n",
    "\n",
    "This study aims to investigate the interplay between educational attainment, income levels, and health awareness in influencing Medicaid and healthcare benefit utilization among homeless individuals in Baltimore. Additionally, it seeks to identify the underlying factors that contribute to persistent non-engagement with available healthcare resources. By critically analyzing these barriers, this research will provide evidence-based insights to inform policy interventions that can enhance healthcare accessibility, improve program efficacy, and ultimately bridge the gap between healthcare availability and utilization among urban homeless populations."
   ]
  },
  {
   "cell_type": "markdown",
   "id": "dca8be0b-d5d2-4270-8418-b89ccad15d11",
   "metadata": {},
   "source": [
    "**Data Description**"
   ]
  },
  {
   "cell_type": "markdown",
   "id": "451fef34-499a-4bd2-83b0-233d31da4d58",
   "metadata": {},
   "source": [
    "This dataset provides Medicaid enrollment statistics by race and ethnicity from 2020 to 2022, offering critical insights into healthcare access and utilization among diverse populations. By analyzing enrollment trends, disparities, and demographic patterns, this data will help assess how education, income, and awareness impact Medicaid usage among urban homeless populations in Baltimore, Maryland. Additionally, it will aid in identifying factors contributing to the underutilization of available healthcare programs despite accessibility, aligning directly with the research question’s focus on social determinants of healthcare utilization.\n",
    "\n",
    "Beyond analyzing Medicaid utilization among Baltimore’s urban homeless population, this dataset also provides a national perspective on healthcare enrollment trends across different racial and ethnic groups. By comparing Baltimore-specific data to national figures, this research can uncover broader patterns of healthcare accessibility and disparities. This comparative approach allows for inferences about whether the challenges faced in Baltimore reflect national trends or are uniquely influenced by local socioeconomic factors. Leveraging this dataset enables a deeper understanding of systemic barriers to healthcare, informing policy recommendations that could improve Medicaid outreach and effectiveness on both local and national scales."
   ]
  },
  {
   "cell_type": "code",
   "execution_count": 143,
   "id": "fc9c6cfe-e343-42dd-8b2c-02f9b5cf8093",
   "metadata": {},
   "outputs": [],
   "source": [
    "# Get the current directory\n",
    "current_directory = os.getcwd()\n",
    "\n",
    "# Define the full file path\n",
    "file_path = os.path.join(current_directory, \"'/Users/johnroyal/Documents/race-and-ethnicity-2020-2022-01162025 (2).csv'\")\n"
   ]
  },
  {
   "cell_type": "code",
   "execution_count": 144,
   "id": "a95d6101-ba36-4ab6-93dc-fa8fa60a1a11",
   "metadata": {},
   "outputs": [],
   "source": [
    "# Import Pandas library"
   ]
  },
  {
   "cell_type": "code",
   "execution_count": 145,
   "id": "7c153a7a-c436-4f5e-9556-8b342004e81d",
   "metadata": {},
   "outputs": [],
   "source": [
    "import pandas as pd\n"
   ]
  },
  {
   "cell_type": "code",
   "execution_count": 146,
   "id": "d0d99286-08f3-4396-b71e-cc862a877689",
   "metadata": {},
   "outputs": [],
   "source": [
    "Health_Care_Medicaid_Race_Ethnicty = pd.read_csv('/Users/johnroyal/Documents/race-and-ethnicity-2020-2022-01162025 (2).csv')"
   ]
  },
  {
   "cell_type": "code",
   "execution_count": 147,
   "id": "17a7a061-c531-4386-8eb6-f73d725994f1",
   "metadata": {},
   "outputs": [
    {
     "data": {
      "text/html": [
       "<div>\n",
       "<style scoped>\n",
       "    .dataframe tbody tr th:only-of-type {\n",
       "        vertical-align: middle;\n",
       "    }\n",
       "\n",
       "    .dataframe tbody tr th {\n",
       "        vertical-align: top;\n",
       "    }\n",
       "\n",
       "    .dataframe thead th {\n",
       "        text-align: right;\n",
       "    }\n",
       "</style>\n",
       "<table border=\"1\" class=\"dataframe\">\n",
       "  <thead>\n",
       "    <tr style=\"text-align: right;\">\n",
       "      <th></th>\n",
       "      <th>Year</th>\n",
       "      <th>Geography</th>\n",
       "      <th>Subpopulation topic</th>\n",
       "      <th>Subpopulation</th>\n",
       "      <th>Category</th>\n",
       "      <th>Count of enrollees</th>\n",
       "      <th>Denominator count of enrollees</th>\n",
       "      <th>Percentage of enrollees</th>\n",
       "      <th>Data version</th>\n",
       "    </tr>\n",
       "  </thead>\n",
       "  <tbody>\n",
       "    <tr>\n",
       "      <th>0</th>\n",
       "      <td>2020</td>\n",
       "      <td>National</td>\n",
       "      <td>Age group</td>\n",
       "      <td>Adult</td>\n",
       "      <td>American Indian and Alaska Native, non-Hispanic</td>\n",
       "      <td>653,439</td>\n",
       "      <td>47,168,817</td>\n",
       "      <td>1.4</td>\n",
       "      <td>TAF Release 1</td>\n",
       "    </tr>\n",
       "    <tr>\n",
       "      <th>1</th>\n",
       "      <td>2020</td>\n",
       "      <td>National</td>\n",
       "      <td>Age group</td>\n",
       "      <td>Adult</td>\n",
       "      <td>Asian/Pacific Islander, non-Hispanic</td>\n",
       "      <td>3,258,628</td>\n",
       "      <td>47,168,817</td>\n",
       "      <td>6.9</td>\n",
       "      <td>TAF Release 1</td>\n",
       "    </tr>\n",
       "    <tr>\n",
       "      <th>2</th>\n",
       "      <td>2020</td>\n",
       "      <td>National</td>\n",
       "      <td>Age group</td>\n",
       "      <td>Adult</td>\n",
       "      <td>Black, non-Hispanic</td>\n",
       "      <td>9,592,152</td>\n",
       "      <td>47,168,817</td>\n",
       "      <td>20.3</td>\n",
       "      <td>TAF Release 1</td>\n",
       "    </tr>\n",
       "    <tr>\n",
       "      <th>3</th>\n",
       "      <td>2020</td>\n",
       "      <td>National</td>\n",
       "      <td>Age group</td>\n",
       "      <td>Adult</td>\n",
       "      <td>Hispanic</td>\n",
       "      <td>10,955,420</td>\n",
       "      <td>47,168,817</td>\n",
       "      <td>23.2</td>\n",
       "      <td>TAF Release 1</td>\n",
       "    </tr>\n",
       "    <tr>\n",
       "      <th>4</th>\n",
       "      <td>2020</td>\n",
       "      <td>National</td>\n",
       "      <td>Age group</td>\n",
       "      <td>Adult</td>\n",
       "      <td>Multiracial, non-Hispanic</td>\n",
       "      <td>485,996</td>\n",
       "      <td>47,168,817</td>\n",
       "      <td>1.0</td>\n",
       "      <td>TAF Release 1</td>\n",
       "    </tr>\n",
       "    <tr>\n",
       "      <th>5</th>\n",
       "      <td>2020</td>\n",
       "      <td>National</td>\n",
       "      <td>Age group</td>\n",
       "      <td>Adult</td>\n",
       "      <td>White, non-Hispanic</td>\n",
       "      <td>22,223,182</td>\n",
       "      <td>47,168,817</td>\n",
       "      <td>47.1</td>\n",
       "      <td>TAF Release 1</td>\n",
       "    </tr>\n",
       "    <tr>\n",
       "      <th>6</th>\n",
       "      <td>2020</td>\n",
       "      <td>National</td>\n",
       "      <td>Age group</td>\n",
       "      <td>Child</td>\n",
       "      <td>American Indian and Alaska Native, non-Hispanic</td>\n",
       "      <td>543,881</td>\n",
       "      <td>40,398,252</td>\n",
       "      <td>1.3</td>\n",
       "      <td>TAF Release 1</td>\n",
       "    </tr>\n",
       "    <tr>\n",
       "      <th>7</th>\n",
       "      <td>2020</td>\n",
       "      <td>National</td>\n",
       "      <td>Age group</td>\n",
       "      <td>Child</td>\n",
       "      <td>Asian/Pacific Islander, non-Hispanic</td>\n",
       "      <td>1,710,602</td>\n",
       "      <td>40,398,252</td>\n",
       "      <td>4.2</td>\n",
       "      <td>TAF Release 1</td>\n",
       "    </tr>\n",
       "    <tr>\n",
       "      <th>8</th>\n",
       "      <td>2020</td>\n",
       "      <td>National</td>\n",
       "      <td>Age group</td>\n",
       "      <td>Child</td>\n",
       "      <td>Black, non-Hispanic</td>\n",
       "      <td>8,926,193</td>\n",
       "      <td>40,398,252</td>\n",
       "      <td>22.1</td>\n",
       "      <td>TAF Release 1</td>\n",
       "    </tr>\n",
       "    <tr>\n",
       "      <th>9</th>\n",
       "      <td>2020</td>\n",
       "      <td>National</td>\n",
       "      <td>Age group</td>\n",
       "      <td>Child</td>\n",
       "      <td>Hispanic</td>\n",
       "      <td>12,828,651</td>\n",
       "      <td>40,398,252</td>\n",
       "      <td>31.8</td>\n",
       "      <td>TAF Release 1</td>\n",
       "    </tr>\n",
       "  </tbody>\n",
       "</table>\n",
       "</div>"
      ],
      "text/plain": [
       "   Year Geography Subpopulation topic Subpopulation  \\\n",
       "0  2020  National           Age group         Adult   \n",
       "1  2020  National           Age group         Adult   \n",
       "2  2020  National           Age group         Adult   \n",
       "3  2020  National           Age group         Adult   \n",
       "4  2020  National           Age group         Adult   \n",
       "5  2020  National           Age group         Adult   \n",
       "6  2020  National           Age group         Child   \n",
       "7  2020  National           Age group         Child   \n",
       "8  2020  National           Age group         Child   \n",
       "9  2020  National           Age group         Child   \n",
       "\n",
       "                                          Category Count of enrollees  \\\n",
       "0  American Indian and Alaska Native, non-Hispanic            653,439   \n",
       "1             Asian/Pacific Islander, non-Hispanic          3,258,628   \n",
       "2                              Black, non-Hispanic          9,592,152   \n",
       "3                                         Hispanic         10,955,420   \n",
       "4                        Multiracial, non-Hispanic            485,996   \n",
       "5                              White, non-Hispanic         22,223,182   \n",
       "6  American Indian and Alaska Native, non-Hispanic            543,881   \n",
       "7             Asian/Pacific Islander, non-Hispanic          1,710,602   \n",
       "8                              Black, non-Hispanic          8,926,193   \n",
       "9                                         Hispanic         12,828,651   \n",
       "\n",
       "  Denominator count of enrollees  Percentage of enrollees   Data version  \n",
       "0                     47,168,817                      1.4  TAF Release 1  \n",
       "1                     47,168,817                      6.9  TAF Release 1  \n",
       "2                     47,168,817                     20.3  TAF Release 1  \n",
       "3                     47,168,817                     23.2  TAF Release 1  \n",
       "4                     47,168,817                      1.0  TAF Release 1  \n",
       "5                     47,168,817                     47.1  TAF Release 1  \n",
       "6                     40,398,252                      1.3  TAF Release 1  \n",
       "7                     40,398,252                      4.2  TAF Release 1  \n",
       "8                     40,398,252                     22.1  TAF Release 1  \n",
       "9                     40,398,252                     31.8  TAF Release 1  "
      ]
     },
     "execution_count": 147,
     "metadata": {},
     "output_type": "execute_result"
    }
   ],
   "source": [
    "Health_Care_Medicaid_Race_Ethnicty.head(10)"
   ]
  },
  {
   "cell_type": "code",
   "execution_count": 148,
   "id": "860e9460-fc0a-4c05-88b3-01369e68da8c",
   "metadata": {},
   "outputs": [
    {
     "data": {
      "text/html": [
       "<div>\n",
       "<style scoped>\n",
       "    .dataframe tbody tr th:only-of-type {\n",
       "        vertical-align: middle;\n",
       "    }\n",
       "\n",
       "    .dataframe tbody tr th {\n",
       "        vertical-align: top;\n",
       "    }\n",
       "\n",
       "    .dataframe thead th {\n",
       "        text-align: right;\n",
       "    }\n",
       "</style>\n",
       "<table border=\"1\" class=\"dataframe\">\n",
       "  <thead>\n",
       "    <tr style=\"text-align: right;\">\n",
       "      <th></th>\n",
       "      <th>Year</th>\n",
       "      <th>Geography</th>\n",
       "      <th>Subpopulation topic</th>\n",
       "      <th>Subpopulation</th>\n",
       "      <th>Category</th>\n",
       "      <th>Count of enrollees</th>\n",
       "      <th>Denominator count of enrollees</th>\n",
       "      <th>Percentage of enrollees</th>\n",
       "      <th>Data version</th>\n",
       "    </tr>\n",
       "  </thead>\n",
       "  <tbody>\n",
       "    <tr>\n",
       "      <th>206</th>\n",
       "      <td>2022</td>\n",
       "      <td>National</td>\n",
       "      <td>Eligibility category</td>\n",
       "      <td>Pregnancy</td>\n",
       "      <td>Black, non-Hispanic</td>\n",
       "      <td>462,956</td>\n",
       "      <td>20,803,608</td>\n",
       "      <td>2.2</td>\n",
       "      <td>TAF Release 1</td>\n",
       "    </tr>\n",
       "    <tr>\n",
       "      <th>207</th>\n",
       "      <td>2022</td>\n",
       "      <td>National</td>\n",
       "      <td>Eligibility category</td>\n",
       "      <td>Pregnancy</td>\n",
       "      <td>Hispanic</td>\n",
       "      <td>593,938</td>\n",
       "      <td>27,921,107</td>\n",
       "      <td>2.1</td>\n",
       "      <td>TAF Release 1</td>\n",
       "    </tr>\n",
       "    <tr>\n",
       "      <th>208</th>\n",
       "      <td>2022</td>\n",
       "      <td>National</td>\n",
       "      <td>Eligibility category</td>\n",
       "      <td>Pregnancy</td>\n",
       "      <td>Multiracial, non-Hispanic</td>\n",
       "      <td>37,533</td>\n",
       "      <td>1,880,850</td>\n",
       "      <td>2.0</td>\n",
       "      <td>TAF Release 1</td>\n",
       "    </tr>\n",
       "    <tr>\n",
       "      <th>209</th>\n",
       "      <td>2022</td>\n",
       "      <td>National</td>\n",
       "      <td>Eligibility category</td>\n",
       "      <td>Pregnancy</td>\n",
       "      <td>White, non-Hispanic</td>\n",
       "      <td>812,619</td>\n",
       "      <td>42,466,493</td>\n",
       "      <td>1.9</td>\n",
       "      <td>TAF Release 1</td>\n",
       "    </tr>\n",
       "    <tr>\n",
       "      <th>210</th>\n",
       "      <td>2022</td>\n",
       "      <td>National</td>\n",
       "      <td>Total enrollees</td>\n",
       "      <td>Medicaid and CHIP enrollees</td>\n",
       "      <td>American Indian and Alaska Native, non-Hispanic</td>\n",
       "      <td>1,389,475</td>\n",
       "      <td>108,871,502</td>\n",
       "      <td>1.3</td>\n",
       "      <td>TAF Release 1</td>\n",
       "    </tr>\n",
       "    <tr>\n",
       "      <th>211</th>\n",
       "      <td>2022</td>\n",
       "      <td>National</td>\n",
       "      <td>Total enrollees</td>\n",
       "      <td>Medicaid and CHIP enrollees</td>\n",
       "      <td>Asian/Pacific Islander, non-Hispanic</td>\n",
       "      <td>6,063,432</td>\n",
       "      <td>108,871,502</td>\n",
       "      <td>5.6</td>\n",
       "      <td>TAF Release 1</td>\n",
       "    </tr>\n",
       "    <tr>\n",
       "      <th>212</th>\n",
       "      <td>2022</td>\n",
       "      <td>National</td>\n",
       "      <td>Total enrollees</td>\n",
       "      <td>Medicaid and CHIP enrollees</td>\n",
       "      <td>Black, non-Hispanic</td>\n",
       "      <td>22,438,791</td>\n",
       "      <td>108,871,502</td>\n",
       "      <td>20.6</td>\n",
       "      <td>TAF Release 1</td>\n",
       "    </tr>\n",
       "    <tr>\n",
       "      <th>213</th>\n",
       "      <td>2022</td>\n",
       "      <td>National</td>\n",
       "      <td>Total enrollees</td>\n",
       "      <td>Medicaid and CHIP enrollees</td>\n",
       "      <td>Hispanic</td>\n",
       "      <td>31,132,133</td>\n",
       "      <td>108,871,502</td>\n",
       "      <td>28.6</td>\n",
       "      <td>TAF Release 1</td>\n",
       "    </tr>\n",
       "    <tr>\n",
       "      <th>214</th>\n",
       "      <td>2022</td>\n",
       "      <td>National</td>\n",
       "      <td>Total enrollees</td>\n",
       "      <td>Medicaid and CHIP enrollees</td>\n",
       "      <td>Multiracial, non-Hispanic</td>\n",
       "      <td>1,962,614</td>\n",
       "      <td>108,871,502</td>\n",
       "      <td>1.8</td>\n",
       "      <td>TAF Release 1</td>\n",
       "    </tr>\n",
       "    <tr>\n",
       "      <th>215</th>\n",
       "      <td>2022</td>\n",
       "      <td>National</td>\n",
       "      <td>Total enrollees</td>\n",
       "      <td>Medicaid and CHIP enrollees</td>\n",
       "      <td>White, non-Hispanic</td>\n",
       "      <td>45,885,056</td>\n",
       "      <td>108,871,502</td>\n",
       "      <td>42.1</td>\n",
       "      <td>TAF Release 1</td>\n",
       "    </tr>\n",
       "  </tbody>\n",
       "</table>\n",
       "</div>"
      ],
      "text/plain": [
       "     Year Geography   Subpopulation topic                Subpopulation  \\\n",
       "206  2022  National  Eligibility category                    Pregnancy   \n",
       "207  2022  National  Eligibility category                    Pregnancy   \n",
       "208  2022  National  Eligibility category                    Pregnancy   \n",
       "209  2022  National  Eligibility category                    Pregnancy   \n",
       "210  2022  National       Total enrollees  Medicaid and CHIP enrollees   \n",
       "211  2022  National       Total enrollees  Medicaid and CHIP enrollees   \n",
       "212  2022  National       Total enrollees  Medicaid and CHIP enrollees   \n",
       "213  2022  National       Total enrollees  Medicaid and CHIP enrollees   \n",
       "214  2022  National       Total enrollees  Medicaid and CHIP enrollees   \n",
       "215  2022  National       Total enrollees  Medicaid and CHIP enrollees   \n",
       "\n",
       "                                            Category Count of enrollees  \\\n",
       "206                              Black, non-Hispanic            462,956   \n",
       "207                                         Hispanic            593,938   \n",
       "208                        Multiracial, non-Hispanic             37,533   \n",
       "209                              White, non-Hispanic            812,619   \n",
       "210  American Indian and Alaska Native, non-Hispanic          1,389,475   \n",
       "211             Asian/Pacific Islander, non-Hispanic          6,063,432   \n",
       "212                              Black, non-Hispanic         22,438,791   \n",
       "213                                         Hispanic         31,132,133   \n",
       "214                        Multiracial, non-Hispanic          1,962,614   \n",
       "215                              White, non-Hispanic         45,885,056   \n",
       "\n",
       "    Denominator count of enrollees  Percentage of enrollees   Data version  \n",
       "206                     20,803,608                      2.2  TAF Release 1  \n",
       "207                     27,921,107                      2.1  TAF Release 1  \n",
       "208                      1,880,850                      2.0  TAF Release 1  \n",
       "209                     42,466,493                      1.9  TAF Release 1  \n",
       "210                    108,871,502                      1.3  TAF Release 1  \n",
       "211                    108,871,502                      5.6  TAF Release 1  \n",
       "212                    108,871,502                     20.6  TAF Release 1  \n",
       "213                    108,871,502                     28.6  TAF Release 1  \n",
       "214                    108,871,502                      1.8  TAF Release 1  \n",
       "215                    108,871,502                     42.1  TAF Release 1  "
      ]
     },
     "execution_count": 148,
     "metadata": {},
     "output_type": "execute_result"
    }
   ],
   "source": [
    "Health_Care_Medicaid_Race_Ethnicty.tail(10)"
   ]
  },
  {
   "cell_type": "code",
   "execution_count": 149,
   "id": "cf0b357d-35c7-45ff-95f9-5f533b7ca952",
   "metadata": {},
   "outputs": [
    {
     "data": {
      "text/plain": [
       "Year                              0\n",
       "Geography                         0\n",
       "Subpopulation topic               0\n",
       "Subpopulation                     0\n",
       "Category                          0\n",
       "Count of enrollees                0\n",
       "Denominator count of enrollees    0\n",
       "Percentage of enrollees           0\n",
       "Data version                      0\n",
       "dtype: int64"
      ]
     },
     "execution_count": 149,
     "metadata": {},
     "output_type": "execute_result"
    }
   ],
   "source": [
    "Health_Care_Medicaid_Race_Ethnicty.isnull().sum()"
   ]
  },
  {
   "cell_type": "code",
   "execution_count": 150,
   "id": "ef9bfaaa-9a02-403a-a984-28156699d057",
   "metadata": {},
   "outputs": [
    {
     "data": {
      "text/plain": [
       "(216, 9)"
      ]
     },
     "execution_count": 150,
     "metadata": {},
     "output_type": "execute_result"
    }
   ],
   "source": [
    "Health_Care_Medicaid_Race_Ethnicty.shape # Rows and columns"
   ]
  },
  {
   "cell_type": "code",
   "execution_count": 151,
   "id": "f65196cf-af6a-4c0d-85ec-0df5b428f021",
   "metadata": {},
   "outputs": [
    {
     "name": "stdout",
     "output_type": "stream",
     "text": [
      "Total number of data points: 1944\n"
     ]
    }
   ],
   "source": [
    "rows, columns = Health_Care_Medicaid_Race_Ethnicty.shape\n",
    "total_data_points = rows * columns\n",
    "print(\"Total number of data points:\", total_data_points)"
   ]
  },
  {
   "cell_type": "code",
   "execution_count": 152,
   "id": "438d132a-4c74-46cf-8a16-1f1b32216dae",
   "metadata": {},
   "outputs": [
    {
     "data": {
      "text/plain": [
       "<bound method DataFrame.info of      Year Geography Subpopulation topic                Subpopulation  \\\n",
       "0    2020  National           Age group                        Adult   \n",
       "1    2020  National           Age group                        Adult   \n",
       "2    2020  National           Age group                        Adult   \n",
       "3    2020  National           Age group                        Adult   \n",
       "4    2020  National           Age group                        Adult   \n",
       "..    ...       ...                 ...                          ...   \n",
       "211  2022  National     Total enrollees  Medicaid and CHIP enrollees   \n",
       "212  2022  National     Total enrollees  Medicaid and CHIP enrollees   \n",
       "213  2022  National     Total enrollees  Medicaid and CHIP enrollees   \n",
       "214  2022  National     Total enrollees  Medicaid and CHIP enrollees   \n",
       "215  2022  National     Total enrollees  Medicaid and CHIP enrollees   \n",
       "\n",
       "                                            Category Count of enrollees  \\\n",
       "0    American Indian and Alaska Native, non-Hispanic            653,439   \n",
       "1               Asian/Pacific Islander, non-Hispanic          3,258,628   \n",
       "2                                Black, non-Hispanic          9,592,152   \n",
       "3                                           Hispanic         10,955,420   \n",
       "4                          Multiracial, non-Hispanic            485,996   \n",
       "..                                               ...                ...   \n",
       "211             Asian/Pacific Islander, non-Hispanic          6,063,432   \n",
       "212                              Black, non-Hispanic         22,438,791   \n",
       "213                                         Hispanic         31,132,133   \n",
       "214                        Multiracial, non-Hispanic          1,962,614   \n",
       "215                              White, non-Hispanic         45,885,056   \n",
       "\n",
       "    Denominator count of enrollees  Percentage of enrollees   Data version  \n",
       "0                       47,168,817                      1.4  TAF Release 1  \n",
       "1                       47,168,817                      6.9  TAF Release 1  \n",
       "2                       47,168,817                     20.3  TAF Release 1  \n",
       "3                       47,168,817                     23.2  TAF Release 1  \n",
       "4                       47,168,817                      1.0  TAF Release 1  \n",
       "..                             ...                      ...            ...  \n",
       "211                    108,871,502                      5.6  TAF Release 1  \n",
       "212                    108,871,502                     20.6  TAF Release 1  \n",
       "213                    108,871,502                     28.6  TAF Release 1  \n",
       "214                    108,871,502                      1.8  TAF Release 1  \n",
       "215                    108,871,502                     42.1  TAF Release 1  \n",
       "\n",
       "[216 rows x 9 columns]>"
      ]
     },
     "execution_count": 152,
     "metadata": {},
     "output_type": "execute_result"
    }
   ],
   "source": [
    "Health_Care_Medicaid_Race_Ethnicty.info # Data types & missing values"
   ]
  },
  {
   "cell_type": "code",
   "execution_count": 153,
   "id": "b64fdd3e-7465-4699-85e3-604167839e89",
   "metadata": {},
   "outputs": [
    {
     "name": "stdout",
     "output_type": "stream",
     "text": [
      "Requirement already satisfied: numpy in /opt/anaconda3/lib/python3.12/site-packages (1.26.4)\n",
      "Requirement already satisfied: pandas in /opt/anaconda3/lib/python3.12/site-packages (2.2.2)\n",
      "Requirement already satisfied: matplotlib in /opt/anaconda3/lib/python3.12/site-packages (3.8.4)\n",
      "Requirement already satisfied: seaborn in /opt/anaconda3/lib/python3.12/site-packages (0.13.2)\n",
      "Requirement already satisfied: python-dateutil>=2.8.2 in /opt/anaconda3/lib/python3.12/site-packages (from pandas) (2.9.0.post0)\n",
      "Requirement already satisfied: pytz>=2020.1 in /opt/anaconda3/lib/python3.12/site-packages (from pandas) (2024.1)\n",
      "Requirement already satisfied: tzdata>=2022.7 in /opt/anaconda3/lib/python3.12/site-packages (from pandas) (2023.3)\n",
      "Requirement already satisfied: contourpy>=1.0.1 in /opt/anaconda3/lib/python3.12/site-packages (from matplotlib) (1.2.0)\n",
      "Requirement already satisfied: cycler>=0.10 in /opt/anaconda3/lib/python3.12/site-packages (from matplotlib) (0.11.0)\n",
      "Requirement already satisfied: fonttools>=4.22.0 in /opt/anaconda3/lib/python3.12/site-packages (from matplotlib) (4.51.0)\n",
      "Requirement already satisfied: kiwisolver>=1.3.1 in /opt/anaconda3/lib/python3.12/site-packages (from matplotlib) (1.4.4)\n",
      "Requirement already satisfied: packaging>=20.0 in /opt/anaconda3/lib/python3.12/site-packages (from matplotlib) (23.2)\n",
      "Requirement already satisfied: pillow>=8 in /opt/anaconda3/lib/python3.12/site-packages (from matplotlib) (10.3.0)\n",
      "Requirement already satisfied: pyparsing>=2.3.1 in /opt/anaconda3/lib/python3.12/site-packages (from matplotlib) (3.0.9)\n",
      "Requirement already satisfied: six>=1.5 in /opt/anaconda3/lib/python3.12/site-packages (from python-dateutil>=2.8.2->pandas) (1.16.0)\n"
     ]
    }
   ],
   "source": [
    "!pip install numpy pandas matplotlib seaborn"
   ]
  },
  {
   "cell_type": "code",
   "execution_count": 154,
   "id": "5ef1ca1a-6831-45fb-beec-5107f5730dc2",
   "metadata": {},
   "outputs": [],
   "source": [
    "import numpy as np  \n",
    "import pandas as pd  \n",
    "import matplotlib.pyplot as plt  \n",
    "import seaborn as sns  "
   ]
  },
  {
   "cell_type": "code",
   "execution_count": null,
   "id": "b78c5381-dfbe-46f2-af8d-71ae61bef628",
   "metadata": {},
   "outputs": [],
   "source": []
  }
 ],
 "metadata": {
  "kernelspec": {
   "display_name": "Python 3 (ipykernel)",
   "language": "python",
   "name": "python3"
  },
  "language_info": {
   "codemirror_mode": {
    "name": "ipython",
    "version": 3
   },
   "file_extension": ".py",
   "mimetype": "text/x-python",
   "name": "python",
   "nbconvert_exporter": "python",
   "pygments_lexer": "ipython3",
   "version": "3.12.4"
  }
 },
 "nbformat": 4,
 "nbformat_minor": 5
}
