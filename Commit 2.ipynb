{
 "cells": [
  {
   "cell_type": "code",
   "execution_count": 2,
   "id": "33b3c3e8-345c-464c-9cae-091382653c14",
   "metadata": {},
   "outputs": [],
   "source": [
    "#Just Want to Confirm Libraries Are In"
   ]
  },
  {
   "cell_type": "code",
   "execution_count": 3,
   "id": "b64fdd3e-7465-4699-85e3-604167839e89",
   "metadata": {},
   "outputs": [
    {
     "name": "stdout",
     "output_type": "stream",
     "text": [
      "Requirement already satisfied: numpy in /opt/anaconda3/lib/python3.12/site-packages (1.26.4)\n",
      "Requirement already satisfied: pandas in /opt/anaconda3/lib/python3.12/site-packages (2.2.3)\n",
      "Requirement already satisfied: matplotlib in /opt/anaconda3/lib/python3.12/site-packages (3.8.4)\n",
      "Requirement already satisfied: seaborn in /opt/anaconda3/lib/python3.12/site-packages (0.13.2)\n",
      "Requirement already satisfied: python-dateutil>=2.8.2 in /opt/anaconda3/lib/python3.12/site-packages (from pandas) (2.9.0.post0)\n",
      "Requirement already satisfied: pytz>=2020.1 in /opt/anaconda3/lib/python3.12/site-packages (from pandas) (2024.1)\n",
      "Requirement already satisfied: tzdata>=2022.7 in /opt/anaconda3/lib/python3.12/site-packages (from pandas) (2023.3)\n",
      "Requirement already satisfied: contourpy>=1.0.1 in /opt/anaconda3/lib/python3.12/site-packages (from matplotlib) (1.2.0)\n",
      "Requirement already satisfied: cycler>=0.10 in /opt/anaconda3/lib/python3.12/site-packages (from matplotlib) (0.11.0)\n",
      "Requirement already satisfied: fonttools>=4.22.0 in /opt/anaconda3/lib/python3.12/site-packages (from matplotlib) (4.51.0)\n",
      "Requirement already satisfied: kiwisolver>=1.3.1 in /opt/anaconda3/lib/python3.12/site-packages (from matplotlib) (1.4.4)\n",
      "Requirement already satisfied: packaging>=20.0 in /opt/anaconda3/lib/python3.12/site-packages (from matplotlib) (23.2)\n",
      "Requirement already satisfied: pillow>=8 in /opt/anaconda3/lib/python3.12/site-packages (from matplotlib) (10.3.0)\n",
      "Requirement already satisfied: pyparsing>=2.3.1 in /opt/anaconda3/lib/python3.12/site-packages (from matplotlib) (3.0.9)\n",
      "Requirement already satisfied: six>=1.5 in /opt/anaconda3/lib/python3.12/site-packages (from python-dateutil>=2.8.2->pandas) (1.16.0)\n"
     ]
    }
   ],
   "source": [
    "!pip install numpy pandas matplotlib seaborn"
   ]
  },
  {
   "cell_type": "markdown",
   "id": "afd2075b-b7b6-4136-ac9f-40afab403280",
   "metadata": {},
   "source": [
    "Research Question"
   ]
  },
  {
   "cell_type": "markdown",
   "id": "bcb28bca-e079-4b86-b96d-d9887f76c1db",
   "metadata": {},
   "source": [
    "How does education, income levels, and awareness impact the utilization of Medicaid and other healthcare benefits among individuals in urban areas, specifically homeless population in Baltimore,Maryland, who have access to these resources? Additionally, what factors contribute to the underutilization of available healthcare programs despite their accessibility?"
   ]
  },
  {
   "cell_type": "markdown",
   "id": "d2a3a7d6-d2f5-493b-a778-c1b8b72ae405",
   "metadata": {},
   "source": [
    "Problem Statement "
   ]
  },
  {
   "cell_type": "markdown",
   "id": "b4211964-a7b7-42ef-aab3-206430d9c6ed",
   "metadata": {},
   "source": [
    "While health care inequality remains a significant social justice issue in the U.S., often influenced by disparities in education, income, and access. Research suggests that individuals within urban areas which have access to medicaid (for example), clinic options and referral programs often do not leverage them. This study aims to analyze the relationship between access and benefit utilization more specifically exploring why those with resources do not use them especially related to respective income levels. The hypothesis is that higher education, income and overall awarness of resources leads to higher utilization of benefits. More importantly are the resources beneficial if they are not being leveraged?"
   ]
  },
  {
   "cell_type": "code",
   "execution_count": 8,
   "id": "e255878d-b14c-478a-a708-510f81a53035",
   "metadata": {},
   "outputs": [],
   "source": [
    "#Example Data Set"
   ]
  },
  {
   "cell_type": "markdown",
   "id": "451fef34-499a-4bd2-83b0-233d31da4d58",
   "metadata": {},
   "source": [
    "This data set includes annual counts and percentages of Medicaid and Children’s Health Insurance Program (CHIP) enrollees by race and ethnicity overall and by three subpopulation topics: scope of Medicaid and CHIP benefits, age group, and eligibility category. Also breaks it out geographically within the US, it was last updated January 16,2025. https://data.medicaid.gov/dataset/b9e18d80-c765-4fb9-95e7-81951e01a6a3#overview "
   ]
  },
  {
   "cell_type": "code",
   "execution_count": 10,
   "id": "5ef1ca1a-6831-45fb-beec-5107f5730dc2",
   "metadata": {},
   "outputs": [],
   "source": [
    "import numpy as np  \n",
    "import pandas as pd  \n",
    "import matplotlib.pyplot as plt  \n",
    "import seaborn as sns  "
   ]
  },
  {
   "cell_type": "code",
   "execution_count": 11,
   "id": "a95d6101-ba36-4ab6-93dc-fa8fa60a1a11",
   "metadata": {},
   "outputs": [],
   "source": [
    "# Import Pandas library"
   ]
  },
  {
   "cell_type": "code",
   "execution_count": 12,
   "id": "7c153a7a-c436-4f5e-9556-8b342004e81d",
   "metadata": {},
   "outputs": [],
   "source": [
    "import pandas as pd\n"
   ]
  },
  {
   "cell_type": "code",
   "execution_count": 13,
   "id": "e1cb5016-a611-4c14-8833-679d02de05c2",
   "metadata": {},
   "outputs": [
    {
     "name": "stdout",
     "output_type": "stream",
     "text": [
      "/Users/johnroyal/Python\n",
      "['SetUp.ipynb', 'race-and-ethnicity-2020-2022-01162025.csv', 'Health_Care_Outreach_Homeless.ipynb', 'Health_Care_Outreach_Homeless-Copy1.ipynb', 'Commit 4-Copy1.ipynb', 'Assignment 1.ipynb', '.ipynb_checkpoints', 'Health_Care_Outreach_Homeless_Commit3.ipynb', 'Exploratory and Explanatory Data Analysis.ipynb', 'Auto.csv', 'Commit 4.ipynb']\n"
     ]
    }
   ],
   "source": [
    "import os\n",
    "print(os.getcwd())  # Show the current working directory\n",
    "print(os.listdir())  # List files in the current directory\n"
   ]
  },
  {
   "cell_type": "code",
   "execution_count": 14,
   "id": "fc9c6cfe-e343-42dd-8b2c-02f9b5cf8093",
   "metadata": {},
   "outputs": [],
   "source": [
    "# Get the current directory\n",
    "current_directory = os.getcwd()\n",
    "\n",
    "# Define the full file path\n",
    "file_path = os.path.join(current_directory, \"'/Users/johnroyal/Documents/race-and-ethnicity-2020-2022-01162025 (2).csv'\")\n"
   ]
  },
  {
   "cell_type": "code",
   "execution_count": 15,
   "id": "d0d99286-08f3-4396-b71e-cc862a877689",
   "metadata": {},
   "outputs": [],
   "source": [
    "Health_Care_Medicaid_Race_Ethnicty = pd.read_csv('/Users/johnroyal/Documents/race-and-ethnicity-2020-2022-01162025 (2).csv')"
   ]
  },
  {
   "cell_type": "code",
   "execution_count": null,
   "id": "17a7a061-c531-4386-8eb6-f73d725994f1",
   "metadata": {},
   "outputs": [],
   "source": []
  },
  {
   "cell_type": "code",
   "execution_count": null,
   "id": "5e83a963-0742-4728-aa1d-75345aaddd57",
   "metadata": {},
   "outputs": [],
   "source": []
  },
  {
   "cell_type": "code",
   "execution_count": null,
   "id": "cf0b357d-35c7-45ff-95f9-5f533b7ca952",
   "metadata": {},
   "outputs": [],
   "source": []
  },
  {
   "cell_type": "code",
   "execution_count": null,
   "id": "6f218908-626a-41ae-a804-387c33f9a513",
   "metadata": {},
   "outputs": [],
   "source": []
  }
 ],
 "metadata": {
  "kernelspec": {
   "display_name": "Python 3 (ipykernel)",
   "language": "python",
   "name": "python3"
  },
  "language_info": {
   "codemirror_mode": {
    "name": "ipython",
    "version": 3
   },
   "file_extension": ".py",
   "mimetype": "text/x-python",
   "name": "python",
   "nbconvert_exporter": "python",
   "pygments_lexer": "ipython3",
   "version": "3.12.4"
  }
 },
 "nbformat": 4,
 "nbformat_minor": 5
}
